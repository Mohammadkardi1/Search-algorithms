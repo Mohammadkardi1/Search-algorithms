{
  "nbformat": 4,
  "nbformat_minor": 0,
  "metadata": {
    "colab": {
      "name": "training.ipynb",
      "provenance": [],
      "collapsed_sections": []
    },
    "kernelspec": {
      "name": "python3",
      "display_name": "Python 3"
    },
    "accelerator": "GPU"
  },
  "cells": [
    {
      "cell_type": "markdown",
      "metadata": {
        "id": "BMIlwvcNAmLj",
        "colab_type": "text"
      },
      "source": [
        "<img src='image2.png' width=80% />"
      ]
    },
    {
      "cell_type": "code",
      "metadata": {
        "id": "YpsyeSZK0Hxn",
        "colab_type": "code",
        "colab": {}
      },
      "source": [
        "# Python3 program to solve Rat in a Maze  \n",
        "# problem using backracking  \n",
        "  \n",
        "# Maze size \n",
        "N = 4\n",
        "  \n",
        "# A utility function to print solution matrix sol \n",
        "def printSolution( sol ): \n",
        "      \n",
        "    for i in sol: \n",
        "        for j in i: \n",
        "            print(str(j) + \" \", end =\"\") \n",
        "        print(\"\") \n",
        "  \n",
        "# A utility function to check if x, y is valid \n",
        "# index for N * N Maze \n",
        "def isSafe( maze, x, y ): \n",
        "      \n",
        "    if x >= 0 and x < N and y >= 0 and y < N and maze[x][y] == 1: \n",
        "        return True\n",
        "      \n",
        "    return False"
      ],
      "execution_count": 0,
      "outputs": []
    },
    {
      "cell_type": "code",
      "metadata": {
        "id": "J2vUUzLjCaoa",
        "colab_type": "code",
        "colab": {}
      },
      "source": [
        "\"\"\" This function solves the Maze problem using Backtracking.  \n",
        "    It mainly uses solveMazeUtil() to solve the problem. It  \n",
        "    returns false if no path is possible, otherwise return  \n",
        "    true and prints the path in the form of 1s. Please note \n",
        "    that there may be more than one solutions, this function \n",
        "    prints one of the feasable solutions. \"\"\"\n",
        "def solveMaze( maze ): \n",
        "      \n",
        "    # Creating a 4 * 4 2-D list \n",
        "    sol = [ [ 0 for j in range(4) ] for i in range(4) ] \n",
        "      \n",
        "    if solveMazeUtil(maze, 0, 0, sol) == False: \n",
        "        print(\"Solution doesn't exist\"); \n",
        "        return False\n",
        "      \n",
        "    printSolution(sol) \n",
        "    return True\n",
        "      \n",
        "# A recursive utility function to solve Maze problem \n",
        "def solveMazeUtil(maze, x, y, sol): \n",
        "      \n",
        "    # if (x, y is goal) return True \n",
        "    if x == N - 1 and y == N - 1: \n",
        "        sol[x][y] = 1\n",
        "        return True\n",
        "          \n",
        "    # Check if maze[x][y] is valid \n",
        "    if isSafe(maze, x, y) == True: \n",
        "        # mark x, y as part of solution path \n",
        "        sol[x][y] = 1\n",
        "          \n",
        "        # Move forward in x direction \n",
        "        if solveMazeUtil(maze, x + 1, y, sol) == True: \n",
        "            return True\n",
        "              \n",
        "        # If moving in x direction doesn't give solution  \n",
        "        # then Move down in y direction \n",
        "        if solveMazeUtil(maze, x, y + 1, sol) == True: \n",
        "            return True\n",
        "          \n",
        "        # If none of the above movements work then  \n",
        "        # BACKTRACK: unmark x, y as part of solution path \n",
        "        sol[x][y] = 0\n",
        "        return False"
      ],
      "execution_count": 0,
      "outputs": []
    },
    {
      "cell_type": "code",
      "metadata": {
        "id": "hP-ywyBgCfA4",
        "colab_type": "code",
        "colab": {
          "base_uri": "https://localhost:8080/",
          "height": 101
        },
        "outputId": "9540bc73-dcc2-401f-f99e-a25a0e67035c"
      },
      "source": [
        "maze = [ [1, 0, 0, 0], \n",
        "          [1, 1, 0, 1], \n",
        "          [0, 1, 0, 0], \n",
        "          [1, 1, 1, 1] ] \n",
        "               \n",
        "solveMaze(maze) "
      ],
      "execution_count": 4,
      "outputs": [
        {
          "output_type": "stream",
          "text": [
            "1 0 0 0 \n",
            "1 1 0 0 \n",
            "0 1 0 0 \n",
            "0 1 1 1 \n"
          ],
          "name": "stdout"
        },
        {
          "output_type": "execute_result",
          "data": {
            "text/plain": [
              "True"
            ]
          },
          "metadata": {
            "tags": []
          },
          "execution_count": 4
        }
      ]
    }
  ]
}