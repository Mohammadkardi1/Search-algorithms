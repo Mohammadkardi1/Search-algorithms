{
  "nbformat": 4,
  "nbformat_minor": 0,
  "metadata": {
    "colab": {
      "name": "training.ipynb",
      "provenance": [],
      "collapsed_sections": [],
      "toc_visible": true
    },
    "kernelspec": {
      "name": "python3",
      "display_name": "Python 3"
    },
    "accelerator": "GPU"
  },
  "cells": [
    {
      "cell_type": "code",
      "metadata": {
        "id": "40dFpSv4lYnP",
        "colab_type": "code",
        "colab": {
          "base_uri": "https://localhost:8080/",
          "height": 118
        },
        "outputId": "7e2820ce-43cc-4c1d-a4dd-45f9c454a4d1"
      },
      "source": [
        "# Using a Python dictionary to act as an adjacency list\n",
        "graph = {\n",
        "    'A' : ['B','C'],\n",
        "    'B' : ['D', 'E'],\n",
        "    'C' : ['F'],\n",
        "    'D' : [],\n",
        "    'E' : ['F'],\n",
        "    'F' : []\n",
        "}\n",
        "\n",
        "visited = [] # Array to keep track of visited nodes.\n",
        "\n",
        "def dfs(visited, graph, node):\n",
        "    if node not in visited:\n",
        "        print (node)\n",
        "        visited.append(node)\n",
        "        for neighbour in graph[node]:\n",
        "            dfs(visited, graph, neighbour)\n",
        "\n",
        "# Driver Code\n",
        "dfs(visited, graph, 'A')"
      ],
      "execution_count": 1,
      "outputs": [
        {
          "output_type": "stream",
          "text": [
            "A\n",
            "B\n",
            "D\n",
            "E\n",
            "F\n",
            "C\n"
          ],
          "name": "stdout"
        }
      ]
    }
  ]
}